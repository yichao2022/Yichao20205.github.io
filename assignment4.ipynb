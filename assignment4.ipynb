{
  "cells": [
    {
      "cell_type": "raw",
      "metadata": {},
      "source": [
        "---\n",
        "title: \"assignment4\"\n",
        "format: html\n",
        "---"
      ],
      "id": "0a900af5"
    },
    {
      "cell_type": "markdown",
      "metadata": {},
      "source": [
        "![](images/Rplot.png)\n",
        "\n",
        "![](images/Rplot02-01.png)\n",
        "\n",
        "![](images/Rplot03-01.png)\n",
        "\n",
        "![](images/Rplot04-01.png)\n",
        "\n",
        "![](images/Rplot05-01.png)\n",
        "\n",
        "![](images/Rplot06.png)\n",
        "\n",
        "**Similarities and Differences**:\n",
        "\n",
        "-   **Similarities**: Both may emphasize dialogue, cooperation, and peace, with common themes like national interests and economic stability.\n",
        "\n",
        "-   **Differences**: Summit texts focus on US-China relations, while inaugural speeches are more general, covering the state of the nation and future plans, often with a rhetorical, unifying tone.\n",
        "\n",
        "For example, Biden's 2021 inaugural address, as noted, focused on unity and democracy, with general international references but no specific mention of China, highlighting the broader scope compared to summit specifics.\n",
        "\n",
        "What is Wordfish: \n",
        "\n",
        "Wordfish is identified as a Poisson scaling model for one-dimensional document positioning, detailed in Slapin and Proksch (2008), available at [American Journal of Political Science](https://onlinelibrary.wiley.com/doi/abs/10.1111/j.1540-5907.2008.00338.x). It is an unsupervised method, meaning it doesn't require pre-labeled data, and uses word frequencies to estimate positions, assuming a Poisson distribution. This is particularly useful in political science for measuring ideological stances, such as placing political speeches on a left-right spectrum based on word usage.\n",
        "\n",
        "Comparing Positions Using Wordfish and Scaling Methods:\n",
        "\n",
        "Scaling methods, in general, reduce text data dimensionality for comparison, with Wordfish being specific to text, while others like PCA or t-SNE are more general."
      ],
      "id": "ab4649c6"
    }
  ],
  "metadata": {
    "kernelspec": {
      "display_name": "Python 3",
      "language": "python",
      "name": "python3"
    }
  },
  "nbformat": 4,
  "nbformat_minor": 5
}